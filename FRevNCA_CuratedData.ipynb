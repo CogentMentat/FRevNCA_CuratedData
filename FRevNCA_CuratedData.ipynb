{
 "cells": [
  {
   "cell_type": "markdown",
   "metadata": {},
   "source": [
    "# National Constituent Assembly speech data\n",
    "\n",
    "Curated for the PNAS article [Individuals, institutions, and innovation in the debates of the French Revolution](https://www.pnas.org/content/115/18/4607.short) by Barron, Spang, Huang, and DeDeo.\n",
    "\n",
    "Sections:\n",
    "\n",
    "* [Loading data](#Loading-data)\n",
    "* [Q & A](#Q-&-A)"
   ]
  },
  {
   "cell_type": "markdown",
   "metadata": {},
   "source": [
    "## Preliminaries"
   ]
  },
  {
   "cell_type": "code",
   "execution_count": 1,
   "metadata": {},
   "outputs": [],
   "source": [
    "import pandas as pd\n",
    "import numpy as np\n",
    "import os\n",
    "import gzip"
   ]
  },
  {
   "cell_type": "markdown",
   "metadata": {},
   "source": [
    "## Loading data"
   ]
  },
  {
   "cell_type": "markdown",
   "metadata": {},
   "source": [
    "### Load speech data flatfile\n",
    "\n",
    "* To acommodate the wide variety of characters in the speech text itself, this flatfile uses '=+=' as its column delimiter, with newline-delimited rows ('\\n').\n",
    "* The alternative would be to strip a particular character from all text in the data and use that as the delimiter; I opt to preserve the raw source data.\n",
    "* A convenience function to read the table into a pandas dataframe is included below, since pandas built-ins don't like this situation."
   ]
  },
  {
   "cell_type": "code",
   "execution_count": 2,
   "metadata": {},
   "outputs": [],
   "source": [
    "def load_FRevNCA_speechdata(fpath):\n",
    "    \"\"\"\n",
    "    Convenience function to load curated French Revolution NCA data.\n",
    "    \n",
    "    \"\"\"\n",
    "\n",
    "    dtypes = [np.int64, str, str, np.int64, str, np.int64] + [str]*6 + [np.bool] + [str]*5\n",
    "\n",
    "    # Parse file.\n",
    "    with gzip.open(fpath, mode='rt', encoding='utf-8', compresslevel=9) as f:\n",
    "        _rows = [line.strip().split('=+=') for line in f.readlines()]\n",
    "\n",
    "    # Apply data types.\n",
    "    _rows_data = [[x(y) for x, y in zip(dtypes, _row)] for _row in _rows[1:]]\n",
    "\n",
    "    return pd.DataFrame(_rows_data, columns=_rows[0])"
   ]
  },
  {
   "cell_type": "code",
   "execution_count": 3,
   "metadata": {},
   "outputs": [
    {
     "data": {
      "text/plain": [
       "(44953, 18)"
      ]
     },
     "execution_count": 3,
     "metadata": {},
     "output_type": "execute_result"
    }
   ],
   "source": [
    "# Load speech data.\n",
    "\n",
    "flatfile_fpath = 'FRevNCA_speechdata.txt.gz'\n",
    "\n",
    "FRevNCA_data_df = load_FRevNCA_speechdata(flatfile_fpath)\n",
    "\n",
    "FRevNCA_data_df.shape"
   ]
  },
  {
   "cell_type": "code",
   "execution_count": 4,
   "metadata": {
    "scrolled": true
   },
   "outputs": [
    {
     "data": {
      "text/html": [
       "<div>\n",
       "<style scoped>\n",
       "    .dataframe tbody tr th:only-of-type {\n",
       "        vertical-align: middle;\n",
       "    }\n",
       "\n",
       "    .dataframe tbody tr th {\n",
       "        vertical-align: top;\n",
       "    }\n",
       "\n",
       "    .dataframe thead th {\n",
       "        text-align: right;\n",
       "    }\n",
       "</style>\n",
       "<table border=\"1\" class=\"dataframe\">\n",
       "  <thead>\n",
       "    <tr style=\"text-align: right;\">\n",
       "      <th></th>\n",
       "      <th>NCASpeechId</th>\n",
       "      <th>Date</th>\n",
       "      <th>OrigFile</th>\n",
       "      <th>Volume</th>\n",
       "      <th>PbTagId</th>\n",
       "      <th>PageNum</th>\n",
       "      <th>SpeakerStr</th>\n",
       "      <th>Surname</th>\n",
       "      <th>Name</th>\n",
       "      <th>Affiliation</th>\n",
       "      <th>Estate</th>\n",
       "      <th>Club</th>\n",
       "      <th>President</th>\n",
       "      <th>CommitteeStatus</th>\n",
       "      <th>RawTextFr</th>\n",
       "      <th>RawTextEnTrans</th>\n",
       "      <th>ProcessedText</th>\n",
       "      <th>ProcessedVocabText</th>\n",
       "    </tr>\n",
       "  </thead>\n",
       "  <tbody>\n",
       "    <tr>\n",
       "      <th>0</th>\n",
       "      <td>142</td>\n",
       "      <td>1789-07-09</td>\n",
       "      <td>bm916nx5550.xml</td>\n",
       "      <td>8</td>\n",
       "      <td>bm916nx5550_00_0280</td>\n",
       "      <td>211</td>\n",
       "      <td>M de Lally-Tollendal</td>\n",
       "      <td>Lally-Tollendal</td>\n",
       "      <td>Gérard</td>\n",
       "      <td>nonpos</td>\n",
       "      <td>2</td>\n",
       "      <td>nonpos</td>\n",
       "      <td>True</td>\n",
       "      <td>noncomm</td>\n",
       "      <td>donne lecture du procès-verbal.</td>\n",
       "      <td>reads the minutes.</td>\n",
       "      <td>donne lecture du procèsverbal</td>\n",
       "      <td>donne lecture procèsverbal</td>\n",
       "    </tr>\n",
       "    <tr>\n",
       "      <th>1</th>\n",
       "      <td>143</td>\n",
       "      <td>1789-07-09</td>\n",
       "      <td>bm916nx5550.xml</td>\n",
       "      <td>8</td>\n",
       "      <td>bm916nx5550_00_0280</td>\n",
       "      <td>211</td>\n",
       "      <td>M le Président</td>\n",
       "      <td>Lefranc de Pompignan</td>\n",
       "      <td>Jean-Georges</td>\n",
       "      <td>nonpos</td>\n",
       "      <td>1</td>\n",
       "      <td>nonpos</td>\n",
       "      <td>True</td>\n",
       "      <td>noncomm</td>\n",
       "      <td>prévient l'Assemblée que M. le rapporteur de l...</td>\n",
       "      <td>informed the Assembly that the Rapporteur of t...</td>\n",
       "      <td>prévient l assemblée que m le rapporteur de la...</td>\n",
       "      <td>prévient assemblée rapporteur députation baill...</td>\n",
       "    </tr>\n",
       "    <tr>\n",
       "      <th>2</th>\n",
       "      <td>144</td>\n",
       "      <td>1789-07-09</td>\n",
       "      <td>bm916nx5550.xml</td>\n",
       "      <td>8</td>\n",
       "      <td>bm916nx5550_00_0280</td>\n",
       "      <td>211</td>\n",
       "      <td>M Tronchet</td>\n",
       "      <td>Tronchet</td>\n",
       "      <td>François Denis</td>\n",
       "      <td>g</td>\n",
       "      <td>3</td>\n",
       "      <td>nonpos</td>\n",
       "      <td>True</td>\n",
       "      <td>noncomm</td>\n",
       "      <td>fait ce rapport. Il en résulte qu'il existe de...</td>\n",
       "      <td>made this report. It follows that there are tw...</td>\n",
       "      <td>fait ce rapport il en résulte qu il existe deu...</td>\n",
       "      <td>fait rapport résulte existe deux députations n...</td>\n",
       "    </tr>\n",
       "    <tr>\n",
       "      <th>3</th>\n",
       "      <td>145</td>\n",
       "      <td>1789-07-09</td>\n",
       "      <td>bm916nx5550.xml</td>\n",
       "      <td>8</td>\n",
       "      <td>bm916nx5550_00_0281</td>\n",
       "      <td>212</td>\n",
       "      <td>M Le Pelletier de Saint-Fargeau</td>\n",
       "      <td>Le Peletier de Saint-Fargeau</td>\n",
       "      <td>Louis-Michel</td>\n",
       "      <td>g</td>\n",
       "      <td>2</td>\n",
       "      <td>j</td>\n",
       "      <td>True</td>\n",
       "      <td>noncomm</td>\n",
       "      <td>Je crois qu'il faut plutôt les renvoyer toutes...</td>\n",
       "      <td>I think we should rather send them both than a...</td>\n",
       "      <td>je crois qu il faut plutôt les renvoyer toutes...</td>\n",
       "      <td>crois plutôt renvoyer toutes deux admettre exc...</td>\n",
       "    </tr>\n",
       "    <tr>\n",
       "      <th>4</th>\n",
       "      <td>146</td>\n",
       "      <td>1789-07-09</td>\n",
       "      <td>bm916nx5550.xml</td>\n",
       "      <td>8</td>\n",
       "      <td>bm916nx5550_00_0281</td>\n",
       "      <td>212</td>\n",
       "      <td>M le Président</td>\n",
       "      <td>Lefranc de Pompignan</td>\n",
       "      <td>Jean-Georges</td>\n",
       "      <td>nonpos</td>\n",
       "      <td>1</td>\n",
       "      <td>nonpos</td>\n",
       "      <td>True</td>\n",
       "      <td>noncomm</td>\n",
       "      <td>. Je demande s'il ne convient pas d'abord de s...</td>\n",
       "      <td>. I ask whether it is not appropriate first to...</td>\n",
       "      <td>je demande s il ne convient pas d abord de sta...</td>\n",
       "      <td>demande convient abord statuer première députa...</td>\n",
       "    </tr>\n",
       "  </tbody>\n",
       "</table>\n",
       "</div>"
      ],
      "text/plain": [
       "   NCASpeechId        Date         OrigFile  Volume              PbTagId  \\\n",
       "0          142  1789-07-09  bm916nx5550.xml       8  bm916nx5550_00_0280   \n",
       "1          143  1789-07-09  bm916nx5550.xml       8  bm916nx5550_00_0280   \n",
       "2          144  1789-07-09  bm916nx5550.xml       8  bm916nx5550_00_0280   \n",
       "3          145  1789-07-09  bm916nx5550.xml       8  bm916nx5550_00_0281   \n",
       "4          146  1789-07-09  bm916nx5550.xml       8  bm916nx5550_00_0281   \n",
       "\n",
       "   PageNum                       SpeakerStr                       Surname  \\\n",
       "0      211             M de Lally-Tollendal               Lally-Tollendal   \n",
       "1      211                   M le Président          Lefranc de Pompignan   \n",
       "2      211                       M Tronchet                      Tronchet   \n",
       "3      212  M Le Pelletier de Saint-Fargeau  Le Peletier de Saint-Fargeau   \n",
       "4      212                   M le Président          Lefranc de Pompignan   \n",
       "\n",
       "              Name Affiliation Estate    Club  President CommitteeStatus  \\\n",
       "0          Gérard       nonpos      2  nonpos       True         noncomm   \n",
       "1    Jean-Georges       nonpos      1  nonpos       True         noncomm   \n",
       "2  François Denis            g      3  nonpos       True         noncomm   \n",
       "3    Louis-Michel            g      2       j       True         noncomm   \n",
       "4    Jean-Georges       nonpos      1  nonpos       True         noncomm   \n",
       "\n",
       "                                           RawTextFr  \\\n",
       "0                    donne lecture du procès-verbal.   \n",
       "1  prévient l'Assemblée que M. le rapporteur de l...   \n",
       "2  fait ce rapport. Il en résulte qu'il existe de...   \n",
       "3  Je crois qu'il faut plutôt les renvoyer toutes...   \n",
       "4  . Je demande s'il ne convient pas d'abord de s...   \n",
       "\n",
       "                                      RawTextEnTrans  \\\n",
       "0                                 reads the minutes.   \n",
       "1  informed the Assembly that the Rapporteur of t...   \n",
       "2  made this report. It follows that there are tw...   \n",
       "3  I think we should rather send them both than a...   \n",
       "4  . I ask whether it is not appropriate first to...   \n",
       "\n",
       "                                       ProcessedText  \\\n",
       "0                      donne lecture du procèsverbal   \n",
       "1  prévient l assemblée que m le rapporteur de la...   \n",
       "2  fait ce rapport il en résulte qu il existe deu...   \n",
       "3  je crois qu il faut plutôt les renvoyer toutes...   \n",
       "4  je demande s il ne convient pas d abord de sta...   \n",
       "\n",
       "                                  ProcessedVocabText  \n",
       "0                         donne lecture procèsverbal  \n",
       "1  prévient assemblée rapporteur députation baill...  \n",
       "2  fait rapport résulte existe deux députations n...  \n",
       "3  crois plutôt renvoyer toutes deux admettre exc...  \n",
       "4  demande convient abord statuer première députa...  "
      ]
     },
     "execution_count": 4,
     "metadata": {},
     "output_type": "execute_result"
    }
   ],
   "source": [
    "FRevNCA_data_df.head()"
   ]
  },
  {
   "cell_type": "markdown",
   "metadata": {},
   "source": [
    "#### Column guide:\n",
    "\n",
    "These are a curated and augmented subset of data obtained originally from the publicly available xml files posted on Stanford's French Revolution Digital Archive (FRDA) website, retrieved for this work circa ~2015. The FRDA web interface has changed since then, but metadata relevant to the original xml remains for completeness.\n",
    "\n",
    "* `NCASpeechId`: universal speech index used for all data.\n",
    "* `Date`: date of the speech.  These were cleaned and corrected from the original, which had errors in order and in formatting.\n",
    "* `OrigFile`: original xml file.\n",
    "* `Volume`: original volume of the Archives Parlementaires (AP).\n",
    "* `PbTagId`: location id used throughout the original xml, useful for old FRDA web interface or working with original xml files.  The speech falls after this PbTagId and before the next, in AP page order.\n",
    "* `PageNum`: page of the AP on which the speech occurs.\n",
    "* `SpeakerStr`: speaker string provided by the FRDA xml.\n",
    "* `Surname` and `Name`: identities disambiguated from all the SpeakerStrs.  These are the ones used in the PNAS analysis.  Note: although a lot of manual attention produced these attributions, they are not guaranteed 100% accurate!  There was significant noise in the SpeakerStr data - see the [Supplementary Material](https://www.pnas.org/content/suppl/2018/04/16/1717729115.DCSupplemental), _Preparing and characterizing speech data_ section, for more detail. \"nomatch\" indicates the speech's `SpeakerStr` was not assigned to a disambiguated entity.\n",
    "* `Affiliation`: \"g\" (gauche), \"d\" (droite), \"nonpos\" (matched identity isn't positively identified as gauche or droite according to our historian co-author), or \"nomatch\" (no identity match was made to `SpeakerStr`).\n",
    "* `Estate`, 1st/2nd/3rd estate, or \"nonpos\"/\"nomatch\" as for `Affiliation`.\n",
    "* `Club`: an assortment of political clubs to which individuals belonged, or \"nonpos\"/\"nomatch\".\n",
    "* `President`: binary presidential speech indicator.\n",
    "* `CommitteeStatus`: \"newitem\" (speaker as committee proxy introduces a decree proposal to the floor), \"indebate\" (committee proxy speaks in the midst of debate), or \"noncomm\" (speaker is not a committee proxy).\n",
    "* `RawTextFr`: The raw speech text obtained from the original xml.\n",
    "* `RawTextEnTrans`: For giggles, I made a script circa ~2016 that queries Google Translate with all of the raw speeches.  Results included here.\n",
    "* `ProcessedText`: `RawTextFr` after light tokenization.\n",
    "* `ProcessedVocabText`: `ProcessedText` after removing words with fewer than 3 characters, stop words, then limiting to a 10,000-word vocabulary by highest observed frequency."
   ]
  },
  {
   "cell_type": "markdown",
   "metadata": {},
   "source": [
    "### Loading topics, speech topic mixtures, and vocabulary basis\n",
    "\n",
    "The topic mixtures used in the paper were trained from `ProcessedVocabText`.  These, along with their associated topics and the vocabulary basis, are included here.  The vocabulary contains 10,000 words, and there are 100 topics."
   ]
  },
  {
   "cell_type": "code",
   "execution_count": 5,
   "metadata": {},
   "outputs": [
    {
     "data": {
      "text/plain": [
       "(100, 10000)"
      ]
     },
     "execution_count": 5,
     "metadata": {},
     "output_type": "execute_result"
    }
   ],
   "source": [
    "# Load topics.\n",
    "\n",
    "topicfile_fpath = \"FRevNCA_ProcessedVocabText_topics.gz\"\n",
    "FRevNCA_topics_arr = np.loadtxt(topicfile_fpath)\n",
    "\n",
    "FRevNCA_topics_arr.shape"
   ]
  },
  {
   "cell_type": "code",
   "execution_count": 6,
   "metadata": {},
   "outputs": [
    {
     "data": {
      "text/plain": [
       "(44953, 100)"
      ]
     },
     "execution_count": 6,
     "metadata": {},
     "output_type": "execute_result"
    }
   ],
   "source": [
    "# Load topic mixtures.\n",
    "\n",
    "topicmixfile_fpath = \"FRevNCA_ProcessedVocabText_topicmixtures.gz\"\n",
    "FRevNCA_topicmixtures_arr = np.loadtxt(topicmixfile_fpath)\n",
    "\n",
    "FRevNCA_topicmixtures_arr.shape"
   ]
  },
  {
   "cell_type": "code",
   "execution_count": 7,
   "metadata": {},
   "outputs": [
    {
     "data": {
      "text/plain": [
       "[(0, 'abandon'),\n",
       " (1, 'abandonnant'),\n",
       " (2, 'abandonne'),\n",
       " (3, 'abandonner'),\n",
       " (4, 'abandonné'),\n",
       " (5, 'abandonnée'),\n",
       " (6, 'abandonnées'),\n",
       " (7, 'abandonnés'),\n",
       " (8, 'abattre'),\n",
       " (9, 'abbaye')]"
      ]
     },
     "execution_count": 7,
     "metadata": {},
     "output_type": "execute_result"
    }
   ],
   "source": [
    "# Load vocabulary basis.\n",
    "\n",
    "vocabbasis_fpath = 'FRevNCA_ProcessedVocabText_vocabbasis.txt.gz'\n",
    "\n",
    "with gzip.open(vocabbasis_fpath, mode='rt', encoding='utf-8', compresslevel=9) as f:\n",
    "    d_ind_w = dict(map(lambda x: (int(x[0]), x[1]),\n",
    "                       [line.strip().split(' ') for line in f]))\n",
    "\n",
    "list(d_ind_w.items())[:10]"
   ]
  },
  {
   "cell_type": "markdown",
   "metadata": {},
   "source": [
    "The integers associated with each word above correspond to indices of each topic.  So, you can display the top 10 words a range of topics like so:"
   ]
  },
  {
   "cell_type": "code",
   "execution_count": 8,
   "metadata": {},
   "outputs": [
    {
     "data": {
      "text/html": [
       "<div>\n",
       "<style scoped>\n",
       "    .dataframe tbody tr th:only-of-type {\n",
       "        vertical-align: middle;\n",
       "    }\n",
       "\n",
       "    .dataframe tbody tr th {\n",
       "        vertical-align: top;\n",
       "    }\n",
       "\n",
       "    .dataframe thead th {\n",
       "        text-align: right;\n",
       "    }\n",
       "</style>\n",
       "<table border=\"1\" class=\"dataframe\">\n",
       "  <thead>\n",
       "    <tr style=\"text-align: right;\">\n",
       "      <th></th>\n",
       "      <th>Topic 0</th>\n",
       "      <th>Topic 1</th>\n",
       "      <th>Topic 2</th>\n",
       "      <th>Topic 3</th>\n",
       "      <th>Topic 4</th>\n",
       "      <th>Topic 5</th>\n",
       "    </tr>\n",
       "  </thead>\n",
       "  <tbody>\n",
       "    <tr>\n",
       "      <th>0</th>\n",
       "      <td>demande</td>\n",
       "      <td>marseille</td>\n",
       "      <td>nîmes</td>\n",
       "      <td>propriétés</td>\n",
       "      <td>compte</td>\n",
       "      <td>procédure</td>\n",
       "    </tr>\n",
       "    <tr>\n",
       "      <th>1</th>\n",
       "      <td>voix</td>\n",
       "      <td>affaire</td>\n",
       "      <td>étaient</td>\n",
       "      <td>culte</td>\n",
       "      <td>rendre</td>\n",
       "      <td>juge</td>\n",
       "    </tr>\n",
       "    <tr>\n",
       "      <th>2</th>\n",
       "      <td>droite</td>\n",
       "      <td>décret</td>\n",
       "      <td>plus</td>\n",
       "      <td>été</td>\n",
       "      <td>exécution</td>\n",
       "      <td>juges</td>\n",
       "    </tr>\n",
       "    <tr>\n",
       "      <th>3</th>\n",
       "      <td>oui</td>\n",
       "      <td>assemblée</td>\n",
       "      <td>municipaux</td>\n",
       "      <td>propriété</td>\n",
       "      <td>moyens</td>\n",
       "      <td>accusation</td>\n",
       "    </tr>\n",
       "    <tr>\n",
       "      <th>4</th>\n",
       "      <td>plusieurs</td>\n",
       "      <td>été</td>\n",
       "      <td>garde</td>\n",
       "      <td>bénéfices</td>\n",
       "      <td>plus</td>\n",
       "      <td>jugement</td>\n",
       "    </tr>\n",
       "    <tr>\n",
       "      <th>5</th>\n",
       "      <td>non</td>\n",
       "      <td>comité</td>\n",
       "      <td>soldats</td>\n",
       "      <td>dîmes</td>\n",
       "      <td>prendre</td>\n",
       "      <td>fait</td>\n",
       "    </tr>\n",
       "    <tr>\n",
       "      <th>6</th>\n",
       "      <td>membres</td>\n",
       "      <td>nationale</td>\n",
       "      <td>municipalité</td>\n",
       "      <td>nation</td>\n",
       "      <td>commissaires</td>\n",
       "      <td>témoins</td>\n",
       "    </tr>\n",
       "    <tr>\n",
       "      <th>7</th>\n",
       "      <td>applaudissements</td>\n",
       "      <td>procédure</td>\n",
       "      <td>ville</td>\n",
       "      <td>ecclésiastiques</td>\n",
       "      <td>nationale</td>\n",
       "      <td>juré</td>\n",
       "    </tr>\n",
       "    <tr>\n",
       "      <th>8</th>\n",
       "      <td>gauche</td>\n",
       "      <td>tribunal</td>\n",
       "      <td>officiers</td>\n",
       "      <td>clergé</td>\n",
       "      <td>mesures</td>\n",
       "      <td>accusé</td>\n",
       "    </tr>\n",
       "    <tr>\n",
       "      <th>9</th>\n",
       "      <td>murmures</td>\n",
       "      <td>contre</td>\n",
       "      <td>régiment</td>\n",
       "      <td>biens</td>\n",
       "      <td>assemblée</td>\n",
       "      <td>jurés</td>\n",
       "    </tr>\n",
       "  </tbody>\n",
       "</table>\n",
       "</div>"
      ],
      "text/plain": [
       "            Topic 0    Topic 1       Topic 2          Topic 3       Topic 4  \\\n",
       "0           demande  marseille         nîmes       propriétés        compte   \n",
       "1              voix    affaire       étaient            culte        rendre   \n",
       "2            droite     décret          plus              été     exécution   \n",
       "3               oui  assemblée    municipaux        propriété        moyens   \n",
       "4         plusieurs        été         garde        bénéfices          plus   \n",
       "5               non     comité       soldats            dîmes       prendre   \n",
       "6           membres  nationale  municipalité           nation  commissaires   \n",
       "7  applaudissements  procédure         ville  ecclésiastiques     nationale   \n",
       "8            gauche   tribunal     officiers           clergé       mesures   \n",
       "9          murmures     contre      régiment            biens     assemblée   \n",
       "\n",
       "      Topic 5  \n",
       "0   procédure  \n",
       "1        juge  \n",
       "2       juges  \n",
       "3  accusation  \n",
       "4    jugement  \n",
       "5        fait  \n",
       "6     témoins  \n",
       "7        juré  \n",
       "8      accusé  \n",
       "9       jurés  "
      ]
     },
     "execution_count": 8,
     "metadata": {},
     "output_type": "execute_result"
    }
   ],
   "source": [
    "# Create DataFrame tables of top words in each topic.\n",
    "\n",
    "topnum = 10 # Number of top words to display.\n",
    "chunknum = 6 # Number of topics to group into one table.\n",
    "\n",
    "topicnum = FRevNCA_topics_arr.shape[0]\n",
    "\n",
    "# Iterate over groups, or \"chunks\", of topics and\n",
    "# create DataFrames for each chunk.\n",
    "topword_dfs = []\n",
    "for e in range(chunknum, topicnum+chunknum, chunknum):\n",
    "    topics_chunk = FRevNCA_topics_arr[e-chunknum:e, :]\n",
    "    \n",
    "    # Collect the top words for each topic in this chunk.\n",
    "    topwordvecs = []\n",
    "    for topic in topics_chunk:\n",
    "        top_word_idcs = np.argsort(topic)[-topnum:]\n",
    "        topwords = [d_ind_w[k] for k in top_word_idcs]\n",
    "        topwordvecs.append(topwords)\n",
    "\n",
    "    # Combine the top words into a single DataFrame.\n",
    "    topwordarr = np.vstack(topwordvecs).T\n",
    "    names = ['Topic {}'.format(k) for k in range(e-chunknum, e, 1)[:len(topwordarr[1])]]\n",
    "    topword_df = pd.DataFrame(topwordarr, columns=names)\n",
    "    topword_dfs.append(topword_df)\n",
    "    \n",
    "# Display the first chunk's table.\n",
    "topword_dfs[0]"
   ]
  },
  {
   "cell_type": "markdown",
   "metadata": {},
   "source": [
    "## Q & A"
   ]
  },
  {
   "cell_type": "markdown",
   "metadata": {},
   "source": [
    "Q: Why does `NCASpeechId` begin at 142?\n",
    "\n",
    "A: The Archives Parlementaires contains speeches from before the National Constituent Assembly (NCA) was officially established. When parsing the original xml, `NCASpeechID` was assigned to all speeches in chronological order, but the NCA did not come into being until the 9th of July, 1789, and `NCASpeechID` 142 was the first speech on that day!"
   ]
  },
  {
   "cell_type": "markdown",
   "metadata": {},
   "source": [
    "Q: Why are there NaN rows in the topic mixture array?\n",
    "\n",
    "A: They were trained from the strings held in the `ProcessedVocabText` column.  If we show the speech data corresponding to those topic mixture NaN rows, we see that `ProcessedVocabText` was absent for these speeches (and therefore has only NaN values in its column):"
   ]
  },
  {
   "cell_type": "code",
   "execution_count": 9,
   "metadata": {
    "scrolled": true
   },
   "outputs": [
    {
     "data": {
      "text/plain": [
       "array(['nan'], dtype=object)"
      ]
     },
     "execution_count": 9,
     "metadata": {},
     "output_type": "execute_result"
    }
   ],
   "source": [
    "# Show the speech data corresponding to NaN rows of the topic mixture array.\n",
    "\n",
    "# Get the indices of NaN topic mixture rows.\n",
    "topmix_nan_rowidcs = np.unique(np.where(np.isnan(FRevNCA_topicmixtures_arr))[0])\n",
    "\n",
    "# Display all ProcessedVocabText values corresponding to\n",
    "# NaN speech mixture rows.\n",
    "novocab_data_df = FRevNCA_data_df.iloc[topmix_nan_rowidcs]\n",
    "novocab_data_df['ProcessedVocabText'].unique()"
   ]
  },
  {
   "cell_type": "markdown",
   "metadata": {},
   "source": [
    "Here is a selection of these \"no vocabulary\" speeches:"
   ]
  },
  {
   "cell_type": "code",
   "execution_count": 10,
   "metadata": {},
   "outputs": [
    {
     "data": {
      "text/html": [
       "<div>\n",
       "<style scoped>\n",
       "    .dataframe tbody tr th:only-of-type {\n",
       "        vertical-align: middle;\n",
       "    }\n",
       "\n",
       "    .dataframe tbody tr th {\n",
       "        vertical-align: top;\n",
       "    }\n",
       "\n",
       "    .dataframe thead th {\n",
       "        text-align: right;\n",
       "    }\n",
       "</style>\n",
       "<table border=\"1\" class=\"dataframe\">\n",
       "  <thead>\n",
       "    <tr style=\"text-align: right;\">\n",
       "      <th></th>\n",
       "      <th>NCASpeechId</th>\n",
       "      <th>Date</th>\n",
       "      <th>Surname</th>\n",
       "      <th>Name</th>\n",
       "      <th>RawTextFr</th>\n",
       "      <th>RawTextEnTrans</th>\n",
       "      <th>ProcessedText</th>\n",
       "      <th>ProcessedVocabText</th>\n",
       "    </tr>\n",
       "  </thead>\n",
       "  <tbody>\n",
       "    <tr>\n",
       "      <th>16189</th>\n",
       "      <td>16331</td>\n",
       "      <td>1790-08-21</td>\n",
       "      <td>Dinochau</td>\n",
       "      <td>Jacques Samuel</td>\n",
       "      <td>| fi'^é^M^craï^ II'r ett'tf(Kji)tei, ' i^^n'èî...</td>\n",
       "      <td>| (Kji) tiiiiiiiiiiiiiiiiiiiiiiiiiiiiiiiiiiiii...</td>\n",
       "      <td>fi émcraï ii r ett tfkjitei in èîkoii f jë wi ...</td>\n",
       "      <td>nan</td>\n",
       "    </tr>\n",
       "    <tr>\n",
       "      <th>26625</th>\n",
       "      <td>26767</td>\n",
       "      <td>1791-03-02</td>\n",
       "      <td>Regnault (de Lunéville)</td>\n",
       "      <td>Charles</td>\n",
       "      <td>C'est pour que vous n'intriguiez pas.</td>\n",
       "      <td>It is so that you do not intrigue.</td>\n",
       "      <td>c est pour que vous n intriguiez pas</td>\n",
       "      <td>nan</td>\n",
       "    </tr>\n",
       "    <tr>\n",
       "      <th>32256</th>\n",
       "      <td>32398</td>\n",
       "      <td>1791-05-15</td>\n",
       "      <td>nomatch</td>\n",
       "      <td>nomatch</td>\n",
       "      <td>insistent pour avoir la pafole.</td>\n",
       "      <td>insist on having the floor.</td>\n",
       "      <td>insistent pour avoir la pafole</td>\n",
       "      <td>nan</td>\n",
       "    </tr>\n",
       "    <tr>\n",
       "      <th>33551</th>\n",
       "      <td>33693</td>\n",
       "      <td>1791-05-29</td>\n",
       "      <td>Lanjuinais</td>\n",
       "      <td>Jean-Denis</td>\n",
       "      <td>Et d'humauité.</td>\n",
       "      <td>And humility.</td>\n",
       "      <td>et d humauité</td>\n",
       "      <td>nan</td>\n",
       "    </tr>\n",
       "    <tr>\n",
       "      <th>41890</th>\n",
       "      <td>42032</td>\n",
       "      <td>1791-08-23</td>\n",
       "      <td>nomatch</td>\n",
       "      <td>nomatch</td>\n",
       "      <td>Vous calomniez vous-même en la posant ainsi.</td>\n",
       "      <td>You slander yourself by putting it that way.</td>\n",
       "      <td>vous calomniez vousmême en la posant ainsi</td>\n",
       "      <td>nan</td>\n",
       "    </tr>\n",
       "  </tbody>\n",
       "</table>\n",
       "</div>"
      ],
      "text/plain": [
       "       NCASpeechId        Date                  Surname            Name  \\\n",
       "16189        16331  1790-08-21                 Dinochau  Jacques Samuel   \n",
       "26625        26767  1791-03-02  Regnault (de Lunéville)         Charles   \n",
       "32256        32398  1791-05-15                  nomatch         nomatch   \n",
       "33551        33693  1791-05-29               Lanjuinais     Jean-Denis    \n",
       "41890        42032  1791-08-23                  nomatch         nomatch   \n",
       "\n",
       "                                               RawTextFr  \\\n",
       "16189  | fi'^é^M^craï^ II'r ett'tf(Kji)tei, ' i^^n'èî...   \n",
       "26625              C'est pour que vous n'intriguiez pas.   \n",
       "32256                    insistent pour avoir la pafole.   \n",
       "33551                                     Et d'humauité.   \n",
       "41890       Vous calomniez vous-même en la posant ainsi.   \n",
       "\n",
       "                                          RawTextEnTrans  \\\n",
       "16189  | (Kji) tiiiiiiiiiiiiiiiiiiiiiiiiiiiiiiiiiiiii...   \n",
       "26625                 It is so that you do not intrigue.   \n",
       "32256                        insist on having the floor.   \n",
       "33551                                      And humility.   \n",
       "41890       You slander yourself by putting it that way.   \n",
       "\n",
       "                                           ProcessedText ProcessedVocabText  \n",
       "16189  fi émcraï ii r ett tfkjitei in èîkoii f jë wi ...                nan  \n",
       "26625               c est pour que vous n intriguiez pas                nan  \n",
       "32256                     insistent pour avoir la pafole                nan  \n",
       "33551                                      et d humauité                nan  \n",
       "41890         vous calomniez vousmême en la posant ainsi                nan  "
      ]
     },
     "execution_count": 10,
     "metadata": {},
     "output_type": "execute_result"
    }
   ],
   "source": [
    "novocab_data_df.loc[[16189, 26625, 32256, 33551, 41890]][['NCASpeechId', 'Date',\n",
    "                 'Surname', 'Name',\n",
    "                 'RawTextFr', 'RawTextEnTrans', 'ProcessedText', 'ProcessedVocabText']]  "
   ]
  },
  {
   "cell_type": "markdown",
   "metadata": {},
   "source": [
    "My personal favorites above:\n",
    "\n",
    "* \"It is so that you do not intrigue.\"\n",
    "* \"You slander yourself by putting it that way.\""
   ]
  },
  {
   "cell_type": "markdown",
   "metadata": {},
   "source": [
    "Moreover, when we compare the NaN topic mixture indices against NaN `ProcessedVocabText` indices, we see they are the same:"
   ]
  },
  {
   "cell_type": "code",
   "execution_count": 11,
   "metadata": {},
   "outputs": [
    {
     "data": {
      "text/plain": [
       "array([ 1080,  1243, 13440, 16189, 16780, 19254, 19638, 20135, 22184,\n",
       "       22332, 22379, 22922, 25970, 25979, 26511, 26625, 27386, 28114,\n",
       "       28180, 30706, 31043, 32256, 33551, 34065, 34205, 34321, 35616,\n",
       "       35900, 36281, 36573, 38029, 38730, 40662, 41890, 41897, 42062,\n",
       "       42674, 42750, 43027, 44500])"
      ]
     },
     "execution_count": 11,
     "metadata": {},
     "output_type": "execute_result"
    }
   ],
   "source": [
    "novocab_data_df.index.to_numpy()"
   ]
  },
  {
   "cell_type": "code",
   "execution_count": 12,
   "metadata": {},
   "outputs": [
    {
     "data": {
      "text/plain": [
       "array([ 1080,  1243, 13440, 16189, 16780, 19254, 19638, 20135, 22184,\n",
       "       22332, 22379, 22922, 25970, 25979, 26511, 26625, 27386, 28114,\n",
       "       28180, 30706, 31043, 32256, 33551, 34065, 34205, 34321, 35616,\n",
       "       35900, 36281, 36573, 38029, 38730, 40662, 41890, 41897, 42062,\n",
       "       42674, 42750, 43027, 44500])"
      ]
     },
     "execution_count": 12,
     "metadata": {},
     "output_type": "execute_result"
    }
   ],
   "source": [
    "topmix_nan_rowidcs"
   ]
  },
  {
   "cell_type": "code",
   "execution_count": 13,
   "metadata": {},
   "outputs": [
    {
     "data": {
      "text/plain": [
       "True"
      ]
     },
     "execution_count": 13,
     "metadata": {},
     "output_type": "execute_result"
    }
   ],
   "source": [
    "np.all(topmix_nan_rowidcs == novocab_data_df.index.to_numpy())"
   ]
  },
  {
   "cell_type": "code",
   "execution_count": null,
   "metadata": {},
   "outputs": [],
   "source": []
  }
 ],
 "metadata": {
  "kernelspec": {
   "display_name": "Python 3 (ipykernel)",
   "language": "python",
   "name": "python3"
  },
  "language_info": {
   "codemirror_mode": {
    "name": "ipython",
    "version": 3
   },
   "file_extension": ".py",
   "mimetype": "text/x-python",
   "name": "python",
   "nbconvert_exporter": "python",
   "pygments_lexer": "ipython3",
   "version": "3.7.10"
  }
 },
 "nbformat": 4,
 "nbformat_minor": 2
}
